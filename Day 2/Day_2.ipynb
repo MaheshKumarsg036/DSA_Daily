{
  "nbformat": 4,
  "nbformat_minor": 0,
  "metadata": {
    "colab": {
      "provenance": [],
      "toc_visible": true
    },
    "kernelspec": {
      "name": "python3",
      "display_name": "Python 3"
    },
    "language_info": {
      "name": "python"
    }
  },
  "cells": [
    {
      "cell_type": "markdown",
      "source": [
        "**Print 1 to N**"
      ],
      "metadata": {
        "id": "IV5xVU_qbBz0"
      }
    },
    {
      "cell_type": "code",
      "execution_count": 1,
      "metadata": {
        "id": "QNz8_pBXw10f",
        "colab": {
          "base_uri": "https://localhost:8080/"
        },
        "outputId": "d873e14c-7cc3-481a-c5d9-c7ac99777bd3"
      },
      "outputs": [
        {
          "output_type": "stream",
          "name": "stdout",
          "text": [
            "1\n",
            "2\n",
            "3\n",
            "4\n",
            "5\n",
            "6\n",
            "7\n",
            "8\n",
            "9\n",
            "10\n"
          ]
        }
      ],
      "source": [
        "def count_numbers(n):\n",
        "  for i in range(n):\n",
        "    print(i+1)\n",
        "\n",
        "count_numbers(10)\n",
        "\n",
        "\n",
        "\n"
      ]
    },
    {
      "cell_type": "markdown",
      "source": [
        "**Sum of N Numbers**"
      ],
      "metadata": {
        "id": "MTN8hqFNaw_y"
      }
    },
    {
      "cell_type": "code",
      "source": [
        "def sum_of_numbers(n):\n",
        "  i = 1\n",
        "  sum = 0\n",
        "  while i <= n:\n",
        "    sum += i\n",
        "    i += 1\n",
        "  print(\"Sum using while loop:\",sum)\n",
        "  sum = n * (n+1)//2\n",
        "  print(\"Sum using the formula n*(n+1)//2:\",sum)\n",
        "\n",
        "sum_of_numbers(5)"
      ],
      "metadata": {
        "colab": {
          "base_uri": "https://localhost:8080/"
        },
        "id": "jJf-RAqkatxH",
        "outputId": "22062dee-6712-4778-d08e-c766d75f9168"
      },
      "execution_count": 4,
      "outputs": [
        {
          "output_type": "stream",
          "name": "stdout",
          "text": [
            "Sum using while loop: 15\n",
            "Sum using the formula n*(n+1)//2: 15\n"
          ]
        }
      ]
    },
    {
      "cell_type": "markdown",
      "source": [
        "**Factorial of a Number**"
      ],
      "metadata": {
        "id": "oMYMowWQbIVZ"
      }
    },
    {
      "cell_type": "code",
      "source": [
        "def factorial_iterative(n):\n",
        "  i = 1\n",
        "  ans = 1\n",
        "  while i <= n:\n",
        "    ans = ans * i\n",
        "    i += 1\n",
        "  print(\"Factorial calculated iteratively is:\",ans)\n",
        "\n",
        "def factorial_recursive(n):\n",
        "  if n == 1:\n",
        "    return 1\n",
        "  return n * factorial_recursive(n-1)\n",
        "\n",
        "factorial_iterative(5)\n",
        "print(\"Factorial calculated recursively:\",factorial_recursive(5))"
      ],
      "metadata": {
        "colab": {
          "base_uri": "https://localhost:8080/"
        },
        "id": "RWgsHFaea36T",
        "outputId": "86dc558a-c7a2-4aab-c58f-09c2e3c2fa51"
      },
      "execution_count": 6,
      "outputs": [
        {
          "output_type": "stream",
          "name": "stdout",
          "text": [
            "Factorial calculated iteratively is: 120\n",
            "Factorial calculated recursively: 120\n"
          ]
        }
      ]
    },
    {
      "cell_type": "markdown",
      "source": [
        "**Reverse a Number**"
      ],
      "metadata": {
        "id": "XnNr8qRfb2nj"
      }
    },
    {
      "cell_type": "code",
      "source": [
        "def reverse_number(n):\n",
        "  ans = 0\n",
        "  while(n>0):\n",
        "    ans = ans*10 + n%10\n",
        "    n = n//10\n",
        "  print(\"Reverse of the number is:\",ans)\n",
        "\n",
        "reverse_number(1234)"
      ],
      "metadata": {
        "colab": {
          "base_uri": "https://localhost:8080/"
        },
        "id": "mBv8ot5DbsG1",
        "outputId": "ff9c5005-67a5-4fe6-e576-740da3aec882"
      },
      "execution_count": 7,
      "outputs": [
        {
          "output_type": "stream",
          "name": "stdout",
          "text": [
            "Reverse of the number is: 4321\n"
          ]
        }
      ]
    },
    {
      "cell_type": "markdown",
      "source": [
        "**Count Digits**"
      ],
      "metadata": {
        "id": "ShaWC9gicMeD"
      }
    },
    {
      "cell_type": "code",
      "source": [
        "def count_digits(n):\n",
        "  ans = 0\n",
        "  while n > 0:\n",
        "    ans += 1\n",
        "    n = n//10\n",
        "  print(\"Number of digits is:\",ans)\n",
        "\n",
        "count_digits(12345)"
      ],
      "metadata": {
        "colab": {
          "base_uri": "https://localhost:8080/"
        },
        "id": "An451fCYcIjr",
        "outputId": "b5d6a10d-5104-4042-8bb8-2659e27f2003"
      },
      "execution_count": 9,
      "outputs": [
        {
          "output_type": "stream",
          "name": "stdout",
          "text": [
            "Number of digits is: 5\n"
          ]
        }
      ]
    },
    {
      "cell_type": "markdown",
      "source": [
        "**Patterns**"
      ],
      "metadata": {
        "id": "3KZbxwxWcgeQ"
      }
    },
    {
      "cell_type": "code",
      "source": [
        "def pattern_1(n):\n",
        "  for i in range(n):\n",
        "    print(\"*\"*n)\n",
        "\n",
        "pattern_1(5)"
      ],
      "metadata": {
        "colab": {
          "base_uri": "https://localhost:8080/"
        },
        "id": "zQMcZHDrcbUe",
        "outputId": "dc54f40a-ddac-4d07-e691-376f09174e1f"
      },
      "execution_count": 10,
      "outputs": [
        {
          "output_type": "stream",
          "name": "stdout",
          "text": [
            "*****\n",
            "*****\n",
            "*****\n",
            "*****\n",
            "*****\n"
          ]
        }
      ]
    },
    {
      "cell_type": "code",
      "source": [
        "def pattern_2(n):\n",
        "  for i in range(n):\n",
        "    if i == 0 or i == n-1:\n",
        "      print(\"*\"*n)\n",
        "    else:\n",
        "      print(\"*\",\" \"*(n-4),\"*\")\n",
        "\n",
        "pattern_2(5)"
      ],
      "metadata": {
        "colab": {
          "base_uri": "https://localhost:8080/"
        },
        "id": "uIGWB3T3csQS",
        "outputId": "5750ffab-b0d7-4be4-f580-9b2e46dce031"
      },
      "execution_count": 13,
      "outputs": [
        {
          "output_type": "stream",
          "name": "stdout",
          "text": [
            "*****\n",
            "*   *\n",
            "*   *\n",
            "*   *\n",
            "*****\n"
          ]
        }
      ]
    },
    {
      "cell_type": "code",
      "source": [
        "def half_pyramid(n):\n",
        "  for i in range(n):\n",
        "    print(\"*\"*(i+1))\n",
        "\n",
        "half_pyramid(5)"
      ],
      "metadata": {
        "colab": {
          "base_uri": "https://localhost:8080/"
        },
        "id": "4asnOQjedCVf",
        "outputId": "0292e53c-1381-4358-b878-dc5b063bab48"
      },
      "execution_count": 14,
      "outputs": [
        {
          "output_type": "stream",
          "name": "stdout",
          "text": [
            "*\n",
            "**\n",
            "***\n",
            "****\n",
            "*****\n"
          ]
        }
      ]
    },
    {
      "cell_type": "code",
      "source": [
        "def inverted_half_pyramid(n):\n",
        "  for i in range(n):\n",
        "    print(\"*\"*(n-i))\n",
        "\n",
        "inverted_half_pyramid(5)"
      ],
      "metadata": {
        "colab": {
          "base_uri": "https://localhost:8080/"
        },
        "id": "r7i0o7gEdVk1",
        "outputId": "4b1b5177-0092-4771-c198-79461193982d"
      },
      "execution_count": 15,
      "outputs": [
        {
          "output_type": "stream",
          "name": "stdout",
          "text": [
            "*****\n",
            "****\n",
            "***\n",
            "**\n",
            "*\n"
          ]
        }
      ]
    },
    {
      "cell_type": "code",
      "source": [
        "def number_pyramid(n):\n",
        "  for i in range(n):\n",
        "    for j in range(i+1):\n",
        "      print(j+1,end=\"\")\n",
        "    print()\n",
        "\n",
        "number_pyramid(5)"
      ],
      "metadata": {
        "colab": {
          "base_uri": "https://localhost:8080/"
        },
        "id": "0ld3gPBSdglF",
        "outputId": "b0ea5372-64d9-48c6-f851-a25152760b7a"
      },
      "execution_count": 16,
      "outputs": [
        {
          "output_type": "stream",
          "name": "stdout",
          "text": [
            "1\n",
            "12\n",
            "123\n",
            "1234\n",
            "12345\n"
          ]
        }
      ]
    },
    {
      "cell_type": "code",
      "source": [],
      "metadata": {
        "id": "h2rdhY7ud_nO"
      },
      "execution_count": null,
      "outputs": []
    }
  ]
}